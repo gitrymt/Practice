{
 "cells": [
  {
   "cell_type": "markdown",
   "metadata": {},
   "source": [
    "# [1週間で学べる！Julia数値計算プログラミング](https://www.kspub.co.jp/book/detail/5282823.html)\n",
    "\n",
    "## 2日目: 数式をコードにしてみよう\n",
    "### Julia言語の基本機能"
   ]
  },
  {
   "cell_type": "markdown",
   "metadata": {},
   "source": [
    "#### 2.5 型について考える：型と多重ディスパッチ\n",
    "##### 2.5.1 型とは"
   ]
  },
  {
   "cell_type": "code",
   "execution_count": 1,
   "metadata": {},
   "outputs": [
    {
     "data": {
      "text/plain": [
       "1"
      ]
     },
     "metadata": {},
     "output_type": "display_data"
    }
   ],
   "source": [
    "a = 1"
   ]
  },
  {
   "cell_type": "code",
   "execution_count": 2,
   "metadata": {},
   "outputs": [
    {
     "data": {
      "text/plain": [
       "Int64"
      ]
     },
     "metadata": {},
     "output_type": "display_data"
    }
   ],
   "source": [
    "typeof(a)"
   ]
  },
  {
   "cell_type": "code",
   "execution_count": 3,
   "metadata": {},
   "outputs": [
    {
     "data": {
      "text/plain": [
       "-9223372036854775808"
      ]
     },
     "metadata": {},
     "output_type": "display_data"
    }
   ],
   "source": [
    "typemin(Int64)"
   ]
  },
  {
   "cell_type": "code",
   "execution_count": 4,
   "metadata": {},
   "outputs": [
    {
     "data": {
      "text/plain": [
       "9223372036854775807"
      ]
     },
     "metadata": {},
     "output_type": "display_data"
    }
   ],
   "source": [
    "typemax(Int64)"
   ]
  },
  {
   "cell_type": "code",
   "execution_count": 5,
   "metadata": {},
   "outputs": [
    {
     "data": {
      "text/plain": [
       "9223372036854775807"
      ]
     },
     "metadata": {},
     "output_type": "display_data"
    }
   ],
   "source": [
    "a = typemin(Int64) - 1"
   ]
  },
  {
   "cell_type": "code",
   "execution_count": 6,
   "metadata": {},
   "outputs": [
    {
     "data": {
      "text/plain": [
       "-128"
      ]
     },
     "metadata": {},
     "output_type": "display_data"
    }
   ],
   "source": [
    "typemin(Int8)"
   ]
  },
  {
   "cell_type": "code",
   "execution_count": 7,
   "metadata": {},
   "outputs": [
    {
     "data": {
      "text/plain": [
       "127"
      ]
     },
     "metadata": {},
     "output_type": "display_data"
    }
   ],
   "source": [
    "typemax(Int8)"
   ]
  },
  {
   "cell_type": "code",
   "execution_count": 8,
   "metadata": {},
   "outputs": [
    {
     "data": {
      "text/plain": [
       "2.5"
      ]
     },
     "metadata": {},
     "output_type": "display_data"
    }
   ],
   "source": [
    "b = 2.5"
   ]
  },
  {
   "cell_type": "code",
   "execution_count": 9,
   "metadata": {},
   "outputs": [
    {
     "data": {
      "text/plain": [
       "Float64"
      ]
     },
     "metadata": {},
     "output_type": "display_data"
    }
   ],
   "source": [
    "typeof(b)"
   ]
  },
  {
   "cell_type": "code",
   "execution_count": 10,
   "metadata": {},
   "outputs": [
    {
     "data": {
      "text/plain": [
       "8"
      ]
     },
     "metadata": {},
     "output_type": "display_data"
    }
   ],
   "source": [
    "a = Int32(8)"
   ]
  },
  {
   "cell_type": "code",
   "execution_count": 11,
   "metadata": {},
   "outputs": [
    {
     "data": {
      "text/plain": [
       "Int32"
      ]
     },
     "metadata": {},
     "output_type": "display_data"
    }
   ],
   "source": [
    "typeof(a)"
   ]
  },
  {
   "cell_type": "code",
   "execution_count": 12,
   "metadata": {},
   "outputs": [
    {
     "data": {
      "text/plain": [
       "f (generic function with 1 method)"
      ]
     },
     "metadata": {},
     "output_type": "display_data"
    }
   ],
   "source": [
    "f(x,y) = x*y"
   ]
  },
  {
   "cell_type": "code",
   "execution_count": 13,
   "metadata": {},
   "outputs": [
    {
     "data": {
      "text/plain": [
       "4"
      ]
     },
     "metadata": {},
     "output_type": "display_data"
    }
   ],
   "source": [
    "f(2,2)"
   ]
  },
  {
   "cell_type": "code",
   "execution_count": 14,
   "metadata": {},
   "outputs": [
    {
     "data": {
      "text/plain": [
       "3.0"
      ]
     },
     "metadata": {},
     "output_type": "display_data"
    }
   ],
   "source": [
    "f(2,1.5)"
   ]
  },
  {
   "cell_type": "code",
   "execution_count": 15,
   "metadata": {},
   "outputs": [
    {
     "data": {
      "text/plain": [
       "2×2 Matrix{Int64}:\n",
       " 1  2\n",
       " 3  4"
      ]
     },
     "metadata": {},
     "output_type": "display_data"
    }
   ],
   "source": [
    "A = [\n",
    "    1 2\n",
    "    3 4\n",
    "]"
   ]
  },
  {
   "cell_type": "code",
   "execution_count": 16,
   "metadata": {},
   "outputs": [
    {
     "data": {
      "text/plain": [
       "2×2 Matrix{Int64}:\n",
       " 10  20\n",
       " 30  40"
      ]
     },
     "metadata": {},
     "output_type": "display_data"
    }
   ],
   "source": [
    "B = [10 20\n",
    "30 40]"
   ]
  },
  {
   "cell_type": "code",
   "execution_count": 17,
   "metadata": {},
   "outputs": [
    {
     "data": {
      "text/plain": [
       "2×2 Matrix{Int64}:\n",
       "  70  100\n",
       " 150  220"
      ]
     },
     "metadata": {},
     "output_type": "display_data"
    }
   ],
   "source": [
    "f(A,B)"
   ]
  },
  {
   "cell_type": "code",
   "execution_count": 18,
   "metadata": {},
   "outputs": [
    {
     "data": {
      "text/plain": [
       "\"catdog\""
      ]
     },
     "metadata": {},
     "output_type": "display_data"
    }
   ],
   "source": [
    "f(\"cat\",\"dog\")"
   ]
  },
  {
   "cell_type": "markdown",
   "metadata": {},
   "source": [
    "julia> f(2,\"dog\")\n",
    "\n",
    "ERROR: MethodError: no method mathcing *(::Int64, ::String)"
   ]
  },
  {
   "cell_type": "markdown",
   "metadata": {},
   "source": [
    "##### 2.5.2 多重ディスパッチ"
   ]
  },
  {
   "cell_type": "code",
   "execution_count": 19,
   "metadata": {},
   "outputs": [
    {
     "data": {
      "text/plain": [
       "f (generic function with 1 method)"
      ]
     },
     "metadata": {},
     "output_type": "display_data"
    }
   ],
   "source": [
    "f(x,y) = x*y"
   ]
  },
  {
   "cell_type": "code",
   "execution_count": 20,
   "metadata": {},
   "outputs": [
    {
     "data": {
      "text/plain": [
       "f (generic function with 2 methods)"
      ]
     },
     "metadata": {},
     "output_type": "display_data"
    }
   ],
   "source": [
    "function f(x::Int64,y::String)\n",
    "    z = \"\"\n",
    "    for i=1:x\n",
    "        z *= y\n",
    "    end\n",
    "    return z\n",
    "end"
   ]
  },
  {
   "cell_type": "code",
   "execution_count": 21,
   "metadata": {},
   "outputs": [
    {
     "data": {
      "text/plain": [
       "f (generic function with 3 methods)"
      ]
     },
     "metadata": {},
     "output_type": "display_data"
    }
   ],
   "source": [
    "f(x) = 10*x"
   ]
  },
  {
   "cell_type": "code",
   "execution_count": 22,
   "metadata": {},
   "outputs": [
    {
     "data": {
      "text/plain": [
       "f (generic function with 4 methods)"
      ]
     },
     "metadata": {},
     "output_type": "display_data"
    }
   ],
   "source": [
    "f(x,y,z) = 10*x*y*z"
   ]
  },
  {
   "cell_type": "code",
   "execution_count": 23,
   "metadata": {},
   "outputs": [
    {
     "data": {
      "text/plain": [
       "10"
      ]
     },
     "metadata": {},
     "output_type": "display_data"
    }
   ],
   "source": [
    "f(1)"
   ]
  },
  {
   "cell_type": "code",
   "execution_count": 24,
   "metadata": {},
   "outputs": [
    {
     "data": {
      "text/plain": [
       "60"
      ]
     },
     "metadata": {},
     "output_type": "display_data"
    }
   ],
   "source": [
    "f(1,2,3)"
   ]
  },
  {
   "cell_type": "code",
   "execution_count": 25,
   "metadata": {},
   "outputs": [
    {
     "data": {
      "text/html": [
       "# 4 methods for generic function <b>f</b> from \u001b[35mMain\u001b[39m:<ul><li> f(x::<b>Int64</b>, y::<b>String</b>) in Main at <a href=\"https://github.com/gitrymt/Practice/tree/88c217b6a4cfbb00e582a2bfdad77c8be3cadd10//Julia/1週間で学べる！ Julia数値計算プログラミング/day2-3.ipynb#L1\" target=\"_blank\">c:\\GitHub\\Practice\\Julia\\1週間で学べる！ Julia数値計算プログラミング\\day2-3.ipynb:1</a></li> <li> f(x) in Main at <a href=\"https://github.com/gitrymt/Practice/tree/88c217b6a4cfbb00e582a2bfdad77c8be3cadd10//Julia/1週間で学べる！ Julia数値計算プログラミング/day2-3.ipynb#L1\" target=\"_blank\">c:\\GitHub\\Practice\\Julia\\1週間で学べる！ Julia数値計算プログラミング\\day2-3.ipynb:1</a></li> <li> f(x, y) in Main at <a href=\"https://github.com/gitrymt/Practice/tree/88c217b6a4cfbb00e582a2bfdad77c8be3cadd10//Julia/1週間で学べる！ Julia数値計算プログラミング/day2-3.ipynb#L1\" target=\"_blank\">c:\\GitHub\\Practice\\Julia\\1週間で学べる！ Julia数値計算プログラミング\\day2-3.ipynb:1</a></li> <li> f(x, y, z) in Main at <a href=\"https://github.com/gitrymt/Practice/tree/88c217b6a4cfbb00e582a2bfdad77c8be3cadd10//Julia/1週間で学べる！ Julia数値計算プログラミング/day2-3.ipynb#L1\" target=\"_blank\">c:\\GitHub\\Practice\\Julia\\1週間で学べる！ Julia数値計算プログラミング\\day2-3.ipynb:1</a></li> </ul>"
      ],
      "text/plain": [
       "# 4 methods for generic function \"f\" from \u001b[35mMain\u001b[39m:\n",
       " [1] f(\u001b[90mx\u001b[39m::\u001b[1mInt64\u001b[22m, \u001b[90my\u001b[39m::\u001b[1mString\u001b[22m)\n",
       "\u001b[90m     @\u001b[39m \u001b[90mc:\\GitHub\\Practice\\Julia\\1週間で学べる！ Julia数値計算プログラミング\\\u001b[39m\u001b[90m\u001b[4mday2-3.ipynb:1\u001b[24m\u001b[39m\n",
       " [2] f(\u001b[90mx\u001b[39m)\n",
       "\u001b[90m     @\u001b[39m \u001b[90mc:\\GitHub\\Practice\\Julia\\1週間で学べる！ Julia数値計算プログラミング\\\u001b[39m\u001b[90m\u001b[4mday2-3.ipynb:1\u001b[24m\u001b[39m\n",
       " [3] f(\u001b[90mx\u001b[39m, \u001b[90my\u001b[39m)\n",
       "\u001b[90m     @\u001b[39m \u001b[90mc:\\GitHub\\Practice\\Julia\\1週間で学べる！ Julia数値計算プログラミング\\\u001b[39m\u001b[90m\u001b[4mday2-3.ipynb:1\u001b[24m\u001b[39m\n",
       " [4] f(\u001b[90mx\u001b[39m, \u001b[90my\u001b[39m, \u001b[90mz\u001b[39m)\n",
       "\u001b[90m     @\u001b[39m \u001b[90mc:\\GitHub\\Practice\\Julia\\1週間で学べる！ Julia数値計算プログラミング\\\u001b[39m\u001b[90m\u001b[4mday2-3.ipynb:1\u001b[24m\u001b[39m"
      ]
     },
     "metadata": {},
     "output_type": "display_data"
    }
   ],
   "source": [
    "methods(f)"
   ]
  },
  {
   "cell_type": "code",
   "execution_count": 26,
   "metadata": {},
   "outputs": [
    {
     "data": {
      "text/plain": [
       "* (generic function with 309 methods)"
      ]
     },
     "metadata": {},
     "output_type": "display_data"
    }
   ],
   "source": [
    "*"
   ]
  },
  {
   "cell_type": "code",
   "execution_count": 27,
   "metadata": {},
   "outputs": [],
   "source": [
    "function Base.:*(x::Int64,y::String)\n",
    "    z = \"\"\n",
    "    for i=1:x\n",
    "        z*=y\n",
    "    end\n",
    "    return z\n",
    "end"
   ]
  },
  {
   "cell_type": "code",
   "execution_count": 28,
   "metadata": {},
   "outputs": [
    {
     "data": {
      "text/plain": [
       "* (generic function with 310 methods)"
      ]
     },
     "metadata": {},
     "output_type": "display_data"
    }
   ],
   "source": [
    "*"
   ]
  },
  {
   "cell_type": "code",
   "execution_count": 29,
   "metadata": {},
   "outputs": [
    {
     "data": {
      "text/plain": [
       "\"dogdogdog\""
      ]
     },
     "metadata": {},
     "output_type": "display_data"
    }
   ],
   "source": [
    "3*\"dog\""
   ]
  },
  {
   "cell_type": "markdown",
   "metadata": {},
   "source": [
    "##### 2.5.3 型のヒエラルキー"
   ]
  },
  {
   "cell_type": "code",
   "execution_count": 30,
   "metadata": {},
   "outputs": [
    {
     "data": {
      "text/plain": [
       "8"
      ]
     },
     "metadata": {},
     "output_type": "display_data"
    }
   ],
   "source": [
    "a = Int32(8)"
   ]
  },
  {
   "cell_type": "markdown",
   "metadata": {},
   "source": [
    "julia> a*\"cat\"\n",
    "\n",
    "ERROR: MethodError: no method matching *(::Int32, ::String)"
   ]
  },
  {
   "cell_type": "code",
   "execution_count": 31,
   "metadata": {},
   "outputs": [],
   "source": [
    "function Base.:*(x::Integer,y::String)\n",
    "    z = \"\"\n",
    "    for i=1:x\n",
    "        z *= y\n",
    "    end\n",
    "    return z\n",
    "end"
   ]
  },
  {
   "cell_type": "code",
   "execution_count": 32,
   "metadata": {},
   "outputs": [
    {
     "data": {
      "text/plain": [
       "0x0000000000000003"
      ]
     },
     "metadata": {},
     "output_type": "display_data"
    }
   ],
   "source": [
    "a = UInt64(3)"
   ]
  },
  {
   "cell_type": "code",
   "execution_count": 33,
   "metadata": {},
   "outputs": [
    {
     "data": {
      "text/plain": [
       "\"dogdogdog\""
      ]
     },
     "metadata": {},
     "output_type": "display_data"
    }
   ],
   "source": [
    "a*\"dog\""
   ]
  },
  {
   "cell_type": "code",
   "execution_count": 34,
   "metadata": {},
   "outputs": [
    {
     "data": {
      "text/plain": [
       "Signed"
      ]
     },
     "metadata": {},
     "output_type": "display_data"
    }
   ],
   "source": [
    "supertype(Int32)"
   ]
  },
  {
   "cell_type": "code",
   "execution_count": 35,
   "metadata": {},
   "outputs": [
    {
     "data": {
      "text/plain": [
       "Integer"
      ]
     },
     "metadata": {},
     "output_type": "display_data"
    }
   ],
   "source": [
    "supertype(Signed)"
   ]
  },
  {
   "cell_type": "code",
   "execution_count": 36,
   "metadata": {},
   "outputs": [
    {
     "data": {
      "text/plain": [
       "Real"
      ]
     },
     "metadata": {},
     "output_type": "display_data"
    }
   ],
   "source": [
    "supertype(Integer)"
   ]
  },
  {
   "cell_type": "code",
   "execution_count": 37,
   "metadata": {},
   "outputs": [
    {
     "data": {
      "text/plain": [
       "Number"
      ]
     },
     "metadata": {},
     "output_type": "display_data"
    }
   ],
   "source": [
    "supertype(Real)"
   ]
  },
  {
   "cell_type": "code",
   "execution_count": 38,
   "metadata": {},
   "outputs": [
    {
     "data": {
      "text/plain": [
       "Any"
      ]
     },
     "metadata": {},
     "output_type": "display_data"
    }
   ],
   "source": [
    "supertype(Number)"
   ]
  },
  {
   "cell_type": "code",
   "execution_count": 39,
   "metadata": {},
   "outputs": [
    {
     "data": {
      "text/plain": [
       "4-element Vector{Any}:\n",
       " AbstractFloat\n",
       " AbstractIrrational\n",
       " Integer\n",
       " Rational"
      ]
     },
     "metadata": {},
     "output_type": "display_data"
    }
   ],
   "source": [
    "subtypes(Real)"
   ]
  },
  {
   "cell_type": "code",
   "execution_count": 40,
   "metadata": {},
   "outputs": [
    {
     "data": {
      "text/plain": [
       "get_subtypes (generic function with 1 method)"
      ]
     },
     "metadata": {},
     "output_type": "display_data"
    }
   ],
   "source": [
    "function get_subtypes(type,num)\n",
    "    types = subtypes(type)\n",
    "    num += 1\n",
    "    if length(types) > 1\n",
    "        for subtypes in types\n",
    "            println(num*\" \",subtypes)\n",
    "            types = get_subtypes(subtypes,num)\n",
    "        end\n",
    "    end\n",
    "    return types\n",
    "end"
   ]
  },
  {
   "cell_type": "code",
   "execution_count": 41,
   "metadata": {},
   "outputs": [
    {
     "name": "stdout",
     "output_type": "stream",
     "text": [
      "  Bool\n",
      "  Signed\n",
      "   BigInt\n",
      "   Int128\n",
      "   Int16\n",
      "   Int32\n",
      "   Int64\n",
      "   Int8\n",
      "  Unsigned\n",
      "   UInt128\n",
      "   UInt16"
     ]
    },
    {
     "name": "stdout",
     "output_type": "stream",
     "text": [
      "\n",
      "   UInt32\n",
      "   UInt64\n",
      "   UInt8\n"
     ]
    },
    {
     "data": {
      "text/plain": [
       "Type[]"
      ]
     },
     "metadata": {},
     "output_type": "display_data"
    }
   ],
   "source": [
    "get_subtypes(Integer,1)"
   ]
  },
  {
   "cell_type": "code",
   "execution_count": 42,
   "metadata": {},
   "outputs": [
    {
     "name": "stdout",
     "output_type": "stream",
     "text": [
      "  AbstractFloat\n",
      "   BigFloat\n",
      "   Float16\n",
      "   Float32\n",
      "   Float64\n",
      "  AbstractIrrational\n",
      "  Integer\n",
      "   Bool\n",
      "   Signed\n",
      "    BigInt"
     ]
    },
    {
     "name": "stdout",
     "output_type": "stream",
     "text": [
      "\n",
      "    Int128\n",
      "    Int16\n",
      "    Int32\n",
      "    Int64\n",
      "    Int8\n",
      "   Unsigned\n",
      "    UInt128\n",
      "    UInt16\n",
      "    UInt32\n",
      "    UInt64\n",
      "    UInt8\n",
      "  Rational\n"
     ]
    },
    {
     "data": {
      "text/plain": [
       "Type[]"
      ]
     },
     "metadata": {},
     "output_type": "display_data"
    }
   ],
   "source": [
    "get_subtypes(Real,1)"
   ]
  },
  {
   "cell_type": "markdown",
   "metadata": {},
   "source": [
    "##### 2.5.4 使うと便利な型"
   ]
  },
  {
   "cell_type": "code",
   "execution_count": 43,
   "metadata": {},
   "outputs": [
    {
     "data": {
      "text/plain": [
       "Set{Any}()"
      ]
     },
     "metadata": {},
     "output_type": "display_data"
    }
   ],
   "source": [
    "a = Set()"
   ]
  },
  {
   "cell_type": "code",
   "execution_count": 44,
   "metadata": {},
   "outputs": [
    {
     "data": {
      "text/plain": [
       "Set{Any} with 1 element:\n",
       "  4"
      ]
     },
     "metadata": {},
     "output_type": "display_data"
    }
   ],
   "source": [
    "push!(a,4)"
   ]
  },
  {
   "cell_type": "code",
   "execution_count": 45,
   "metadata": {},
   "outputs": [
    {
     "data": {
      "text/plain": [
       "Set{Any} with 2 elements:\n",
       "  4\n",
       "  \"dog\""
      ]
     },
     "metadata": {},
     "output_type": "display_data"
    }
   ],
   "source": [
    "push!(a,\"dog\")"
   ]
  },
  {
   "cell_type": "code",
   "execution_count": 46,
   "metadata": {},
   "outputs": [
    {
     "data": {
      "text/plain": [
       "Set{Any} with 2 elements:\n",
       "  4\n",
       "  \"dog\""
      ]
     },
     "metadata": {},
     "output_type": "display_data"
    }
   ],
   "source": [
    "push!(a,\"dog\")"
   ]
  },
  {
   "cell_type": "code",
   "execution_count": 47,
   "metadata": {},
   "outputs": [
    {
     "data": {
      "text/plain": [
       "Set{Float64}()"
      ]
     },
     "metadata": {},
     "output_type": "display_data"
    }
   ],
   "source": [
    "a = Set{Float64}()"
   ]
  },
  {
   "cell_type": "code",
   "execution_count": 48,
   "metadata": {},
   "outputs": [
    {
     "data": {
      "text/plain": [
       "Dict{Any, Any}()"
      ]
     },
     "metadata": {},
     "output_type": "display_data"
    }
   ],
   "source": [
    "a = Dict()"
   ]
  },
  {
   "cell_type": "code",
   "execution_count": 49,
   "metadata": {},
   "outputs": [
    {
     "data": {
      "text/plain": [
       "4"
      ]
     },
     "metadata": {},
     "output_type": "display_data"
    }
   ],
   "source": [
    "a[\"age\"] = 4"
   ]
  },
  {
   "cell_type": "code",
   "execution_count": 50,
   "metadata": {},
   "outputs": [
    {
     "data": {
      "text/plain": [
       "\"taro\""
      ]
     },
     "metadata": {},
     "output_type": "display_data"
    }
   ],
   "source": [
    "a[\"name\"] = \"taro\""
   ]
  },
  {
   "cell_type": "code",
   "execution_count": 51,
   "metadata": {},
   "outputs": [
    {
     "data": {
      "text/plain": [
       "10"
      ]
     },
     "metadata": {},
     "output_type": "display_data"
    }
   ],
   "source": [
    "a[3] = 10"
   ]
  },
  {
   "cell_type": "code",
   "execution_count": 52,
   "metadata": {},
   "outputs": [
    {
     "data": {
      "text/plain": [
       "Dict{Any, Any} with 3 entries:\n",
       "  \"name\" => \"taro\"\n",
       "  3      => 10\n",
       "  \"age\"  => 4"
      ]
     },
     "metadata": {},
     "output_type": "display_data"
    }
   ],
   "source": [
    "a"
   ]
  },
  {
   "cell_type": "code",
   "execution_count": 53,
   "metadata": {},
   "outputs": [
    {
     "data": {
      "text/plain": [
       "\"yamada taro\""
      ]
     },
     "metadata": {},
     "output_type": "display_data"
    }
   ],
   "source": [
    "\"yamada \"*a[\"name\"]"
   ]
  },
  {
   "cell_type": "markdown",
   "metadata": {},
   "source": [
    "#### 2.6 パラメータや変数をまとめる\n",
    "##### 2.6.1 struct のご利益"
   ]
  },
  {
   "cell_type": "code",
   "execution_count": 54,
   "metadata": {},
   "outputs": [
    {
     "data": {
      "text/plain": [
       "0.2"
      ]
     },
     "metadata": {},
     "output_type": "display_data"
    }
   ],
   "source": [
    "x1 = 0.2"
   ]
  },
  {
   "cell_type": "code",
   "execution_count": 55,
   "metadata": {},
   "outputs": [
    {
     "data": {
      "text/plain": [
       "1"
      ]
     },
     "metadata": {},
     "output_type": "display_data"
    }
   ],
   "source": [
    "v1 = 1"
   ]
  },
  {
   "cell_type": "code",
   "execution_count": 56,
   "metadata": {},
   "outputs": [
    {
     "data": {
      "text/plain": [
       "0.4"
      ]
     },
     "metadata": {},
     "output_type": "display_data"
    }
   ],
   "source": [
    "x2 = 0.4"
   ]
  },
  {
   "cell_type": "code",
   "execution_count": 57,
   "metadata": {},
   "outputs": [
    {
     "data": {
      "text/plain": [
       "2"
      ]
     },
     "metadata": {},
     "output_type": "display_data"
    }
   ],
   "source": [
    "v2 = 2"
   ]
  },
  {
   "cell_type": "code",
   "execution_count": 58,
   "metadata": {},
   "outputs": [
    {
     "data": {
      "text/plain": [
       "relative (generic function with 1 method)"
      ]
     },
     "metadata": {},
     "output_type": "display_data"
    }
   ],
   "source": [
    "relative(v1,v2) = v1-v2"
   ]
  },
  {
   "cell_type": "code",
   "execution_count": 59,
   "metadata": {},
   "outputs": [
    {
     "data": {
      "text/plain": [
       "-1"
      ]
     },
     "metadata": {},
     "output_type": "display_data"
    }
   ],
   "source": [
    "relative(v1,v2)"
   ]
  },
  {
   "cell_type": "code",
   "execution_count": 60,
   "metadata": {},
   "outputs": [
    {
     "data": {
      "text/plain": [
       "relative (generic function with 2 methods)"
      ]
     },
     "metadata": {},
     "output_type": "display_data"
    }
   ],
   "source": [
    "function relative(vx1,vy1,vz1,vx2,vy2,vz2)\n",
    "    return vx1-vx2,vy1-vy2,vz1-vz2\n",
    "end"
   ]
  },
  {
   "cell_type": "code",
   "execution_count": 61,
   "metadata": {},
   "outputs": [
    {
     "data": {
      "text/plain": [
       "3-element Vector{Float64}:\n",
       "  2.0\n",
       "  1.4\n",
       " -2.1"
      ]
     },
     "metadata": {},
     "output_type": "display_data"
    }
   ],
   "source": [
    "v1 = [2, 1.4, -2.1]"
   ]
  },
  {
   "cell_type": "code",
   "execution_count": 62,
   "metadata": {},
   "outputs": [
    {
     "data": {
      "text/plain": [
       "3-element Vector{Float64}:\n",
       " 3.1\n",
       " 1.2\n",
       " 0.4"
      ]
     },
     "metadata": {},
     "output_type": "display_data"
    }
   ],
   "source": [
    "v2 = [3.1, 1.2, 0.4]"
   ]
  },
  {
   "cell_type": "code",
   "execution_count": 63,
   "metadata": {},
   "outputs": [
    {
     "data": {
      "text/plain": [
       "3-element Vector{Float64}:\n",
       " -1.1\n",
       "  0.19999999999999996\n",
       " -2.5"
      ]
     },
     "metadata": {},
     "output_type": "display_data"
    }
   ],
   "source": [
    "relative(v1, v2)"
   ]
  },
  {
   "cell_type": "code",
   "execution_count": 64,
   "metadata": {},
   "outputs": [
    {
     "data": {
      "text/plain": [
       "0.3"
      ]
     },
     "metadata": {},
     "output_type": "display_data"
    }
   ],
   "source": [
    "m1 = 0.3"
   ]
  },
  {
   "cell_type": "code",
   "execution_count": 65,
   "metadata": {},
   "outputs": [
    {
     "data": {
      "text/plain": [
       "3-element Vector{Float64}:\n",
       " 0.2\n",
       " 0.5\n",
       " 0.1"
      ]
     },
     "metadata": {},
     "output_type": "display_data"
    }
   ],
   "source": [
    "r1 = [0.2,0.5,0.1]"
   ]
  },
  {
   "cell_type": "code",
   "execution_count": 66,
   "metadata": {},
   "outputs": [
    {
     "data": {
      "text/plain": [
       "3-element Vector{Float64}:\n",
       "  0.3\n",
       "  2.0\n",
       " -1.0"
      ]
     },
     "metadata": {},
     "output_type": "display_data"
    }
   ],
   "source": [
    "v1 = [0.3,2,-1]"
   ]
  },
  {
   "cell_type": "code",
   "execution_count": 67,
   "metadata": {},
   "outputs": [
    {
     "data": {
      "text/plain": [
       "3-element Vector{Any}:\n",
       "  [0.2, 0.5, 0.1]\n",
       "  [0.3, 2.0, -1.0]\n",
       " 0.3"
      ]
     },
     "metadata": {},
     "output_type": "display_data"
    }
   ],
   "source": [
    "atom1 = [r1,v1,m1]"
   ]
  },
  {
   "cell_type": "code",
   "execution_count": 68,
   "metadata": {},
   "outputs": [
    {
     "data": {
      "text/plain": [
       "0.3"
      ]
     },
     "metadata": {},
     "output_type": "display_data"
    }
   ],
   "source": [
    "atom1[3]"
   ]
  },
  {
   "cell_type": "code",
   "execution_count": 69,
   "metadata": {},
   "outputs": [
    {
     "data": {
      "text/plain": [
       "Dict{Any, Any}()"
      ]
     },
     "metadata": {},
     "output_type": "display_data"
    }
   ],
   "source": [
    "atom1 = Dict()"
   ]
  },
  {
   "cell_type": "code",
   "execution_count": 70,
   "metadata": {},
   "outputs": [
    {
     "data": {
      "text/plain": [
       "3-element Vector{Float64}:\n",
       " 0.2\n",
       " 0.5\n",
       " 0.1"
      ]
     },
     "metadata": {},
     "output_type": "display_data"
    }
   ],
   "source": [
    "atom1[\"r\"] = r1"
   ]
  },
  {
   "cell_type": "code",
   "execution_count": 71,
   "metadata": {},
   "outputs": [
    {
     "data": {
      "text/plain": [
       "3-element Vector{Float64}:\n",
       "  0.3\n",
       "  2.0\n",
       " -1.0"
      ]
     },
     "metadata": {},
     "output_type": "display_data"
    }
   ],
   "source": [
    "atom1[\"v\"] = v1"
   ]
  },
  {
   "cell_type": "code",
   "execution_count": 72,
   "metadata": {},
   "outputs": [
    {
     "data": {
      "text/plain": [
       "0.3"
      ]
     },
     "metadata": {},
     "output_type": "display_data"
    }
   ],
   "source": [
    "atom1[\"mass\"] = m1"
   ]
  },
  {
   "cell_type": "code",
   "execution_count": 73,
   "metadata": {},
   "outputs": [
    {
     "data": {
      "text/plain": [
       "Dict{Any, Any} with 3 entries:\n",
       "  \"v\"    => [0.3, 2.0, -1.0]\n",
       "  \"mass\" => 0.3\n",
       "  \"r\"    => [0.2, 0.5, 0.1]"
      ]
     },
     "metadata": {},
     "output_type": "display_data"
    }
   ],
   "source": [
    "atom1"
   ]
  },
  {
   "cell_type": "code",
   "execution_count": 74,
   "metadata": {},
   "outputs": [
    {
     "data": {
      "text/plain": [
       "2"
      ]
     },
     "metadata": {},
     "output_type": "display_data"
    }
   ],
   "source": [
    "atom1[\"mas\"] = 2"
   ]
  },
  {
   "cell_type": "code",
   "execution_count": 75,
   "metadata": {},
   "outputs": [
    {
     "name": "stdout",
     "output_type": "stream",
     "text": [
      "0.6\n"
     ]
    }
   ],
   "source": [
    "println(atom1[\"mass\"]*2)"
   ]
  },
  {
   "cell_type": "code",
   "execution_count": 76,
   "metadata": {},
   "outputs": [],
   "source": [
    "mutable struct Atom\n",
    "    r\n",
    "    v\n",
    "    mass\n",
    "end"
   ]
  },
  {
   "cell_type": "code",
   "execution_count": 77,
   "metadata": {},
   "outputs": [
    {
     "data": {
      "text/plain": [
       "Atom([0.2, 0.5, 0.1], [0.3, 2.0, -1.0], 0.3)"
      ]
     },
     "metadata": {},
     "output_type": "display_data"
    }
   ],
   "source": [
    "atom1 = Atom(r1,v1,m1)"
   ]
  },
  {
   "cell_type": "code",
   "execution_count": 78,
   "metadata": {},
   "outputs": [
    {
     "data": {
      "text/plain": [
       "3-element Vector{Float64}:\n",
       " 0.2\n",
       " 0.5\n",
       " 0.1"
      ]
     },
     "metadata": {},
     "output_type": "display_data"
    }
   ],
   "source": [
    "atom1.r"
   ]
  },
  {
   "cell_type": "code",
   "execution_count": 79,
   "metadata": {},
   "outputs": [
    {
     "data": {
      "text/plain": [
       "0.3"
      ]
     },
     "metadata": {},
     "output_type": "display_data"
    }
   ],
   "source": [
    "atom1.mass"
   ]
  },
  {
   "cell_type": "code",
   "execution_count": 80,
   "metadata": {},
   "outputs": [
    {
     "data": {
      "text/plain": [
       "0.2"
      ]
     },
     "metadata": {},
     "output_type": "display_data"
    }
   ],
   "source": [
    "atom1.mass = 0.2"
   ]
  },
  {
   "cell_type": "markdown",
   "metadata": {},
   "source": [
    "##### 2.6.2 実用的な struct の定義"
   ]
  },
  {
   "cell_type": "code",
   "execution_count": 81,
   "metadata": {},
   "outputs": [
    {
     "data": {
      "text/plain": [
       "2-element Vector{Float64}:\n",
       " 0.2\n",
       " 0.4"
      ]
     },
     "metadata": {},
     "output_type": "display_data"
    }
   ],
   "source": [
    "atom1.mass = [0.2,0.4]"
   ]
  },
  {
   "cell_type": "code",
   "execution_count": 82,
   "metadata": {},
   "outputs": [],
   "source": [
    "mutable struct Atom_new\n",
    "    r::Array{Float64,1}\n",
    "    v::Array{Float64,1}\n",
    "    mass::Float64\n",
    "end"
   ]
  },
  {
   "cell_type": "markdown",
   "metadata": {},
   "source": [
    "##### 2.6.3 struct と多重ディスパッチ"
   ]
  },
  {
   "cell_type": "code",
   "execution_count": 83,
   "metadata": {},
   "outputs": [
    {
     "data": {
      "text/plain": [
       "3×3 Matrix{Float64}:\n",
       " 0.47667   0.879228  0.566605\n",
       " 0.819519  0.101836  0.906461\n",
       " 0.957164  0.86883   0.0982806"
      ]
     },
     "metadata": {},
     "output_type": "display_data"
    }
   ],
   "source": [
    "a = rand(3,3)"
   ]
  },
  {
   "cell_type": "code",
   "execution_count": 84,
   "metadata": {},
   "outputs": [
    {
     "data": {
      "text/plain": [
       "3×3 Matrix{Float64}:\n",
       " 0.47667   0.879228  0.566605\n",
       " 0.819519  0.101836  0.906461\n",
       " 0.957164  0.86883   0.0982806"
      ]
     },
     "metadata": {},
     "output_type": "display_data"
    }
   ],
   "source": [
    "display(a)"
   ]
  },
  {
   "cell_type": "code",
   "execution_count": 85,
   "metadata": {},
   "outputs": [
    {
     "data": {
      "text/plain": [
       "Atom([0.2, 0.5, 0.1], [0.3, 2.0, -1.0], [0.2, 0.4])"
      ]
     },
     "metadata": {},
     "output_type": "display_data"
    }
   ],
   "source": [
    "display(atom1)"
   ]
  },
  {
   "cell_type": "code",
   "execution_count": 86,
   "metadata": {},
   "outputs": [],
   "source": [
    "function Base.display(a::Atom)\n",
    "    println(\"r = \",a.r)\n",
    "    println(\"v = \",a.v)\n",
    "    println(\"mass = \",a.mass)\n",
    "end"
   ]
  },
  {
   "cell_type": "code",
   "execution_count": 87,
   "metadata": {},
   "outputs": [
    {
     "name": "stdout",
     "output_type": "stream",
     "text": [
      "r = [0.2, 0.5, 0.1]\n",
      "v = [0.3, 2.0, -1.0]\n",
      "mass = [0.2, 0.4]\n"
     ]
    }
   ],
   "source": [
    "display(atom1)"
   ]
  },
  {
   "cell_type": "markdown",
   "metadata": {},
   "source": [
    "#### 2.7 一通りのセットとしてまとめる：module\n",
    "##### 2.7.1 include によるコードの整理 "
   ]
  },
  {
   "cell_type": "code",
   "execution_count": 88,
   "metadata": {},
   "outputs": [
    {
     "name": "stdout",
     "output_type": "stream",
     "text": [
      "[20 40; 60 80]\n",
      "[4 6; 8 10]\n"
     ]
    }
   ],
   "source": [
    "include(\"./day2/test2.jl\")"
   ]
  },
  {
   "cell_type": "markdown",
   "metadata": {},
   "source": [
    "##### 2.7.2 関数の上書き"
   ]
  },
  {
   "cell_type": "code",
   "execution_count": 89,
   "metadata": {},
   "outputs": [
    {
     "name": "stdout",
     "output_type": "stream",
     "text": [
      "tasu in original.jl\n",
      "1.4 in original.jl\n",
      "tasu in main.jl\n",
      "2.4 in main.jl\n"
     ]
    }
   ],
   "source": [
    "include(\"./day2/main.jl\")"
   ]
  },
  {
   "cell_type": "markdown",
   "metadata": {},
   "source": [
    "##### 2.7.3 module の使用"
   ]
  },
  {
   "cell_type": "code",
   "execution_count": 90,
   "metadata": {},
   "outputs": [
    {
     "name": "stdout",
     "output_type": "stream",
     "text": [
      "tasu in original.jl\n",
      "1.4 in main.jl\n"
     ]
    }
   ],
   "source": [
    "include(\"./day2/main_rev.jl\")"
   ]
  },
  {
   "cell_type": "code",
   "execution_count": 91,
   "metadata": {},
   "outputs": [
    {
     "name": "stdout",
     "output_type": "stream",
     "text": [
      "util\n"
     ]
    },
    {
     "name": "stderr",
     "output_type": "stream",
     "text": [
      "WARNING: replacing module Original.\n"
     ]
    }
   ],
   "source": [
    "module Util\n",
    "    function util()\n",
    "        println(\"util\")\n",
    "    end\n",
    "end\n",
    "\n",
    "module Original\n",
    "    using ..Util\n",
    "    function originalfunc()\n",
    "        Util.util()\n",
    "    end\n",
    "end\n",
    "\n",
    "using .Original\n",
    "Original.originalfunc()"
   ]
  },
  {
   "cell_type": "code",
   "execution_count": 92,
   "metadata": {},
   "outputs": [
    {
     "name": "stdout",
     "output_type": "stream",
     "text": [
      "util\n",
      "it is not in Original\n"
     ]
    }
   ],
   "source": [
    "using .Original\n",
    "function originalfunc()\n",
    "    println(\"it is not in Original\")\n",
    "end\n",
    "Original.originalfunc()\n",
    "originalfunc()"
   ]
  },
  {
   "cell_type": "markdown",
   "metadata": {},
   "source": [
    "##### 2.7.4 module 内の関数の機能拡張"
   ]
  },
  {
   "cell_type": "code",
   "execution_count": 93,
   "metadata": {},
   "outputs": [
    {
     "name": "stdout",
     "output_type": "stream",
     "text": [
      "util\n",
      "original outside Util\n"
     ]
    }
   ],
   "source": [
    "using .Util\n",
    "function Util.util(string)\n",
    "    println(string,\" outside Util\")\n",
    "end\n",
    "\n",
    "Util.util()\n",
    "Util.util(\"original\")"
   ]
  },
  {
   "cell_type": "code",
   "execution_count": 94,
   "metadata": {},
   "outputs": [
    {
     "name": "stdout",
     "output_type": "stream",
     "text": [
      "util\n",
      "original outside Util\n"
     ]
    },
    {
     "name": "stderr",
     "output_type": "stream",
     "text": [
      "WARNING: replacing module Original.\n"
     ]
    }
   ],
   "source": [
    "module Original\n",
    "    using ..Util\n",
    "    function originalfunc()\n",
    "        Util.util()\n",
    "        Util.util(\"original\")\n",
    "    end\n",
    "end\n",
    "\n",
    "using .Original\n",
    "Original.originalfunc()"
   ]
  },
  {
   "cell_type": "markdown",
   "metadata": {},
   "source": [
    "##### 2.7.5 module 名の省略"
   ]
  },
  {
   "cell_type": "code",
   "execution_count": 95,
   "metadata": {},
   "outputs": [
    {
     "name": "stdout",
     "output_type": "stream",
     "text": [
      "util\n"
     ]
    },
    {
     "name": "stderr",
     "output_type": "stream",
     "text": [
      "WARNING: replacing module Util.\n"
     ]
    }
   ],
   "source": [
    "module Util\n",
    "    export util\n",
    "    function util()\n",
    "        println(\"util\")\n",
    "    end\n",
    "end\n",
    "\n",
    "using .Util\n",
    "util()"
   ]
  },
  {
   "cell_type": "code",
   "execution_count": 96,
   "metadata": {},
   "outputs": [],
   "source": [
    "using .Util:util"
   ]
  },
  {
   "cell_type": "code",
   "execution_count": 97,
   "metadata": {},
   "outputs": [
    {
     "name": "stdout",
     "output_type": "stream",
     "text": [
      "util2\n"
     ]
    },
    {
     "name": "stderr",
     "output_type": "stream",
     "text": [
      "WARNING: replacing module Util.\n",
      "WARNING: ignoring conflicting import of Util.util into Main\n"
     ]
    }
   ],
   "source": [
    "module Util\n",
    "    export util\n",
    "    function util()\n",
    "        println(\"util\")\n",
    "    end\n",
    "\n",
    "    function util2()\n",
    "        println(\"util2\")\n",
    "    end\n",
    "end\n",
    "\n",
    "using .Util:util\n",
    "Util.util2()"
   ]
  },
  {
   "cell_type": "markdown",
   "metadata": {},
   "source": [
    "```\n",
    "module Util\n",
    "    export util\n",
    "    function util()\n",
    "        println(\"util\")\n",
    "    end\n",
    "end\n",
    "\n",
    "using .Util\n",
    "util()\n",
    "function util(string)\n",
    "    println(string,\" outside Util\")\n",
    "end\n",
    "```\n",
    "\n",
    "Error!"
   ]
  },
  {
   "cell_type": "markdown",
   "metadata": {},
   "source": [
    "##### 2.7.6 using と import の違い --> 省略\n",
    "「using は借りてくる ⇌ import は自分のものにする」"
   ]
  },
  {
   "cell_type": "markdown",
   "metadata": {},
   "source": [
    "#### 2.8 微分方程式を解く：パッケージの使用\n",
    "##### 2.8.1 パッケージのインストールの仕方 --> 省略\n",
    "Install package = DifferentialEquations\n",
    "##### 2.8.2 常微分方程式の設定"
   ]
  },
  {
   "cell_type": "code",
   "execution_count": 98,
   "metadata": {},
   "outputs": [],
   "source": [
    "using DifferentialEquations"
   ]
  },
  {
   "cell_type": "code",
   "execution_count": 99,
   "metadata": {},
   "outputs": [
    {
     "data": {
      "text/plain": [
       "\u001b[38;2;86;182;194mODEProblem\u001b[0m with uType \u001b[38;2;86;182;194mFloat64\u001b[0m and tType \u001b[38;2;86;182;194mFloat64\u001b[0m. In-place: \u001b[38;2;86;182;194mfalse\u001b[0m\n",
       "timespan: (0.0, 1.0)\n",
       "u0: 0.5"
      ]
     },
     "metadata": {},
     "output_type": "display_data"
    }
   ],
   "source": [
    "f(u,q,t) = 1.01*u # 微分方程式\n",
    "u0 = 1/2 # 初期値\n",
    "tspan = (0.0,1.0) # t の範囲\n",
    "prob = ODEProblem(f,u0,tspan)"
   ]
  },
  {
   "cell_type": "markdown",
   "metadata": {},
   "source": [
    "##### 2.8.3 パッケージのヘルプを見る --> 省略\n",
    "##### 2.8.4 常微分方程式を解く"
   ]
  },
  {
   "cell_type": "code",
   "execution_count": 100,
   "metadata": {},
   "outputs": [
    {
     "data": {
      "text/plain": [
       "retcode: Success\n",
       "Interpolation: specialized 4th order \"free\" interpolation\n",
       "t: 17-element Vector{Float64}:\n",
       " 0.0\n",
       " 0.012407826196308189\n",
       " 0.042501278333560696\n",
       " 0.0817804940926822\n",
       " 0.12887385246570865\n",
       " 0.18409797482126694\n",
       " 0.24627458684331965\n",
       " 0.31479299098506436\n",
       " 0.38859636482100657\n",
       " 0.46686178626184555\n",
       " 0.5487161506239446\n",
       " 0.633434723668386\n",
       " 0.7203630271543068\n",
       " 0.8089580249850934\n",
       " 0.8987655385980757\n",
       " 0.9894162242718207\n",
       " 1.0\n",
       "u: 17-element Vector{Float64}:\n",
       " 0.5\n",
       " 0.5063053789114713\n",
       " 0.5219304750950854\n",
       " 0.5430527156531716\n",
       " 0.5695067808068426\n",
       " 0.6021743690740426\n",
       " 0.6412025714747711\n",
       " 0.6871475333575261\n",
       " 0.7403258498418478\n",
       " 0.8012223528078949\n",
       " 0.8702768771165198\n",
       " 0.9480214886604926\n",
       " 1.0350186821189897\n",
       " 1.1319031558272872\n",
       " 1.239373504325514\n",
       " 1.3582039555461738\n",
       " 1.3728005076225747"
      ]
     },
     "metadata": {},
     "output_type": "display_data"
    }
   ],
   "source": [
    "sol = solve(prob,Tsit5(),reltol=1e-8,abstol=1e-8)"
   ]
  },
  {
   "cell_type": "code",
   "execution_count": 101,
   "metadata": {},
   "outputs": [
    {
     "data": {
      "text/plain": [
       "50"
      ]
     },
     "metadata": {},
     "output_type": "display_data"
    }
   ],
   "source": [
    "nt = 50"
   ]
  },
  {
   "cell_type": "code",
   "execution_count": 102,
   "metadata": {},
   "outputs": [
    {
     "data": {
      "text/plain": [
       "0.0:0.02040816326530612:1.0"
      ]
     },
     "metadata": {},
     "output_type": "display_data"
    }
   ],
   "source": [
    "t = range(0.0, stop=1.0, length=nt) # 0.0 から 1.0 までの nt 点を生成"
   ]
  },
  {
   "cell_type": "code",
   "execution_count": 103,
   "metadata": {},
   "outputs": [
    {
     "name": "stdout",
     "output_type": "stream",
     "text": [
      "t = 0.0, solution: 0.5, exact solution 0.5\n",
      "t = 0.02040816326530612, solution: 0.5104130721711381, exact solution 0.5104130721695938\n",
      "t = 0.04081632653061224, solution: 0.521043008483123, exact solution 0.521043008483206\n",
      "t = 0.061224489795918366, solution: 0.5318943253888133, exact solution 0.5318943253848016\n",
      "t = 0.08163265306122448, solution: 0.5429716333785454, exact solution 0.5429716333784603\n",
      "t = 0.10204081632653061, solution: 0.5542796390000767, exact solution 0.5542796389872846\n",
      "t = 0.12244897959183673, solution: 0.5658231467495113, exact solution 0.5658231467531065\n",
      "t = 0.14285714285714285, solution: 0.5776070613117803, exact solution 0.5776070612778401\n",
      "t = 0.16326530612244897, solution: 0.5896363893061378, exact solution 0.5896363893073463\n",
      "t = 0.1836734693877551, solution: 0.6019162418595128, exact solution 0.6019162418586985\n",
      "t = 0.20408163265306123, solution: 0.614451836460907, exact solution 0.614451836391749\n",
      "t = 0.22448979591836735, solution: 0.627248499015715, exact solution 0.6272484990259225\n",
      "t = 0.24489795918367346, solution: 0.640311666804346, exact solution 0.6403116668031752\n",
      "t = 0.2653061224489796, solution: 0.653646890114023, exact solution 0.6536468899980838\n",
      "t = 0.2857142857142857, solution: 0.667259834491874, exact solution 0.667259834476045\n",
      "t = 0.30612244897959184, solution: 0.6811562840751797, exact solution 0.6811562841005855\n",
      "t = 0.32653061224489793, solution: 0.69534214330177, exact solution 0.6953421431908089\n",
      "t = 0.3469387755102041, solution: 0.709823439167801, exact solution 0.7098234390300208\n",
      "t = 0.3673469387755102, solution: 0.7246063243662835, exact solution 0.7246063244265986\n",
      "t = 0.3877551020408163, solution: 0.7396970803354675, exact solution 0.739697080328195\n",
      "t = 0.40816326530612246, solution: 0.7551021187367932, exact solution 0.7551021184903857\n",
      "t = 0.42857142857142855, solution: 0.770827984312013, exact solution 0.7708279842008927\n",
      "t = 0.4489795918367347, solution: 0.7868813589620695, exact solution 0.7868813590605455\n",
      "t = 0.46938775510204084, solution: 0.8032690638491461, exact solution 0.8032690638221565\n",
      "t = 0.4897959183673469, solution: 0.819998061640704, exact solution 0.8199980612885208\n",
      "t = 0.5102040816326531, solution: 0.8370754593880264, exact solution 0.8370754592707694\n",
      "t = 0.5306122448979592, solution: 0.8545085134765859, exact solution 0.8545085136083342\n",
      "t = 0.5510204081632653, solution: 0.8723046312870067, exact solution 0.8723046312518059\n",
      "t = 0.5714285714285714, solution: 0.8904713738588587, exact solution 0.8904713734099978\n",
      "t = 0.5918367346938775, solution: 0.9090164589586454, exact solution 0.9090164587625491\n",
      "t = 0.6122448979591837, solution: 0.9279477665697792, exact solution 0.9279477667394351\n",
      "t = 0.6326530612244898, solution: 0.9472733409000353, exact solution 0.9472733408687773\n",
      "t = 0.6530612244897959, solution: 0.9670013927005341, exact solution 0.9670013921943749\n",
      "t = 0.673469387755102, solution: 0.987140303134498, exact solution 0.9871403027644102\n",
      "t = 0.6938775510204082, solution: 1.0076986290220513, exact solution 1.0076986291928112\n",
      "t = 0.7142857142857143, solution: 1.0286851062776732, exact solution 1.0286851062947822\n",
      "t = 0.7346938775510204, solution: 1.0501086512463618, exact solution 1.05010865079805\n",
      "t = 0.7551020408163265, solution: 1.0719783657478243, exact solution 1.0719783651313994\n",
      "t = 0.7755102040816326, solution: 1.0943035412398292, exact solution 1.0943035412921123\n",
      "t = 0.7959183673469388, solution: 1.1170936646361271, exact solution 1.117093664793946\n",
      "t = 0.8163265306122449, solution: 1.140358418933921, exact solution 1.1403584186973368\n",
      "t = 0.8367346938775511, solution: 1.1641076885491644, exact solution 1.1641076877235352\n",
      "t = 0.8571428571428571, solution: 1.188351562705087, exact solution 1.1883515624544234\n",
      "t = 0.8775510204081632, solution: 1.2131003433437115, exact solution 1.2131003436197982\n",
      "t = 0.8979591836734694, solution: 1.2383645465582989, exact solution 1.2383645464739421\n",
      "t = 0.9183673469387755, solution: 1.2641549060829267, exact solution 1.2641549052633412\n",
      "t = 0.9387755102040817, solution: 1.2904823784812394, exact solution 1.2904823777874475\n",
      "t = 0.9591836734693877, solution: 1.3173581498692, exact solution 1.3173581500544267\n",
      "t = 0.9795918367346939, solution: 1.3447936409427346, exact solution 1.3447936410338655\n",
      "t = 1.0, solution: 1.3728005076225744, exact solution 1.3728005075084582\n"
     ]
    }
   ],
   "source": [
    "for i=1:nt\n",
    "    println(\"t = $(t[i]), solution: $(sol(t[i])), exact solution $(0.5*exp(1.01t[i]))\")\n",
    "end"
   ]
  },
  {
   "cell_type": "markdown",
   "metadata": {},
   "source": [
    "#### 2.9 数式処理（代数演算）をする：他の言語のライブラリを呼ぶ\n",
    "##### 2.9.1 Python ライブラリの sympy を使う"
   ]
  },
  {
   "cell_type": "code",
   "execution_count": 104,
   "metadata": {},
   "outputs": [],
   "source": [
    "using PyCall"
   ]
  },
  {
   "cell_type": "code",
   "execution_count": 105,
   "metadata": {},
   "outputs": [
    {
     "data": {
      "text/plain": [
       "v\"3.10.12\""
      ]
     },
     "metadata": {},
     "output_type": "display_data"
    }
   ],
   "source": [
    "PyCall.pyversion"
   ]
  },
  {
   "cell_type": "code",
   "execution_count": null,
   "metadata": {},
   "outputs": [],
   "source": [
    "PyCall.pyprogramname"
   ]
  },
  {
   "cell_type": "code",
   "execution_count": null,
   "metadata": {},
   "outputs": [],
   "source": [
    "pyimport_conda(\"sympy\",\"sympy\")"
   ]
  },
  {
   "cell_type": "code",
   "execution_count": null,
   "metadata": {},
   "outputs": [],
   "source": [
    "sympy = pyimport(\"sympy\")"
   ]
  },
  {
   "cell_type": "code",
   "execution_count": 109,
   "metadata": {},
   "outputs": [
    {
     "data": {
      "text/latex": [
       "$\\displaystyle x$"
      ],
      "text/plain": [
       "PyObject x"
      ]
     },
     "metadata": {},
     "output_type": "display_data"
    }
   ],
   "source": [
    "x = sympy.Symbol(\"x\") # PyObject x"
   ]
  },
  {
   "cell_type": "code",
   "execution_count": 110,
   "metadata": {},
   "outputs": [
    {
     "data": {
      "text/latex": [
       "$\\displaystyle y$"
      ],
      "text/plain": [
       "PyObject y"
      ]
     },
     "metadata": {},
     "output_type": "display_data"
    }
   ],
   "source": [
    "y = sympy.Symbol(\"y\")"
   ]
  },
  {
   "cell_type": "code",
   "execution_count": 111,
   "metadata": {},
   "outputs": [
    {
     "data": {
      "text/latex": [
       "$\\displaystyle \\left(x + 1\\right)^{2}$"
      ],
      "text/plain": [
       "PyObject (x + 1)**2"
      ]
     },
     "metadata": {},
     "output_type": "display_data"
    }
   ],
   "source": [
    "b = (x+1)^2"
   ]
  },
  {
   "cell_type": "code",
   "execution_count": 112,
   "metadata": {},
   "outputs": [
    {
     "data": {
      "text/latex": [
       "$\\displaystyle x^{2} + 2 x + 1$"
      ],
      "text/plain": [
       "PyObject x**2 + 2*x + 1"
      ]
     },
     "metadata": {},
     "output_type": "display_data"
    }
   ],
   "source": [
    "sympy.expand(b)"
   ]
  },
  {
   "cell_type": "code",
   "execution_count": 113,
   "metadata": {},
   "outputs": [
    {
     "data": {
      "text/latex": [
       "$\\displaystyle 9$"
      ],
      "text/plain": [
       "PyObject 9"
      ]
     },
     "metadata": {},
     "output_type": "display_data"
    }
   ],
   "source": [
    "z = b.subs(x,2)"
   ]
  },
  {
   "cell_type": "code",
   "execution_count": 114,
   "metadata": {},
   "outputs": [
    {
     "data": {
      "text/plain": [
       "9"
      ]
     },
     "metadata": {},
     "output_type": "display_data"
    }
   ],
   "source": [
    "convert(Int64,z)"
   ]
  },
  {
   "cell_type": "markdown",
   "metadata": {},
   "source": [
    "##### 2.9.2 SymPy.jl を使ってみる"
   ]
  },
  {
   "cell_type": "code",
   "execution_count": 115,
   "metadata": {},
   "outputs": [
    {
     "name": "stderr",
     "output_type": "stream",
     "text": [
      "WARNING: using SymPy.sympy in module Main conflicts with an existing identifier.\n"
     ]
    }
   ],
   "source": [
    "using SymPy"
   ]
  },
  {
   "cell_type": "code",
   "execution_count": 116,
   "metadata": {},
   "outputs": [
    {
     "data": {
      "text/latex": [
       "$x$"
      ],
      "text/plain": [
       "x"
      ]
     },
     "metadata": {},
     "output_type": "display_data"
    }
   ],
   "source": [
    "x = symbols(\"x\")"
   ]
  },
  {
   "cell_type": "code",
   "execution_count": 117,
   "metadata": {},
   "outputs": [
    {
     "data": {
      "text/latex": [
       "$y$"
      ],
      "text/plain": [
       "y"
      ]
     },
     "metadata": {},
     "output_type": "display_data"
    }
   ],
   "source": [
    "y = symbols(\"y\")"
   ]
  },
  {
   "cell_type": "code",
   "execution_count": 118,
   "metadata": {},
   "outputs": [
    {
     "data": {
      "text/latex": [
       "$\\left(x + 1\\right)^{2}$"
      ],
      "text/plain": [
       "       2\n",
       "(x + 1) "
      ]
     },
     "metadata": {},
     "output_type": "display_data"
    }
   ],
   "source": [
    "b = (x+1)^2"
   ]
  },
  {
   "cell_type": "code",
   "execution_count": 119,
   "metadata": {},
   "outputs": [
    {
     "data": {
      "text/latex": [
       "$x^{2} + 2 x + 1$"
      ],
      "text/plain": [
       " 2          \n",
       "x  + 2*x + 1"
      ]
     },
     "metadata": {},
     "output_type": "display_data"
    }
   ],
   "source": [
    "expand(b)"
   ]
  },
  {
   "cell_type": "code",
   "execution_count": 120,
   "metadata": {},
   "outputs": [
    {
     "data": {
      "text/latex": [
       "$9$"
      ],
      "text/plain": [
       "9"
      ]
     },
     "metadata": {},
     "output_type": "display_data"
    }
   ],
   "source": [
    "b.subs(x,2)"
   ]
  }
 ],
 "metadata": {
  "kernelspec": {
   "display_name": "Julia 1.9.4",
   "language": "julia",
   "name": "julia-1.9"
  },
  "language_info": {
   "file_extension": ".jl",
   "mimetype": "application/julia",
   "name": "julia",
   "version": "1.9.4"
  }
 },
 "nbformat": 4,
 "nbformat_minor": 2
}
