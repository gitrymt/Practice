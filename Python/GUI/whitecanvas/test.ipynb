{
 "cells": [
  {
   "cell_type": "code",
   "execution_count": 3,
   "metadata": {},
   "outputs": [],
   "source": [
    "import numpy as np\n",
    "from whitecanvas import new_canvas\n",
    "\n",
    "canvas = new_canvas(\"matplotlib:qt\")\n",
    "\n",
    "x = np.linspace(-np.pi, np.pi, 100)\n",
    "\n",
    "line = canvas.add_line(np.cos(x*2), np.sin(x*3), color=\"r\")\n",
    "markers = canvas.add_markers(np.cos(x), np.sin(x), color=\"gray\")\n",
    "\n",
    "canvas.show()\n"
   ]
  },
  {
   "cell_type": "code",
   "execution_count": null,
   "metadata": {},
   "outputs": [],
   "source": []
  }
 ],
 "metadata": {
  "kernelspec": {
   "display_name": "3.11.8",
   "language": "python",
   "name": "python3"
  },
  "language_info": {
   "codemirror_mode": {
    "name": "ipython",
    "version": 3
   },
   "file_extension": ".py",
   "mimetype": "text/x-python",
   "name": "python",
   "nbconvert_exporter": "python",
   "pygments_lexer": "ipython3",
   "version": "3.11.8"
  }
 },
 "nbformat": 4,
 "nbformat_minor": 2
}
